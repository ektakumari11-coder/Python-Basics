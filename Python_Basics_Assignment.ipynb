{
  "nbformat": 4,
  "nbformat_minor": 0,
  "metadata": {
    "colab": {
      "provenance": []
    },
    "kernelspec": {
      "name": "python3",
      "display_name": "Python 3"
    },
    "language_info": {
      "name": "python"
    }
  },
  "cells": [
    {
      "cell_type": "markdown",
      "source": [
        "#python basics"
      ],
      "metadata": {
        "id": "_itKHxHFzqvq"
      }
    },
    {
      "cell_type": "markdown",
      "source": [
        "Q1-What is Python, and why is it popular ?\n",
        "\n",
        "A-Python is a high-level, general-purpose programming language known for its readability and versatility. It's popular due to its ease of learning, extensive libraries, and wide range of applications, including web development, data science, and artificial intelligence. Its simple syntax and strong community support make it a favorite among both beginners and experienced developers.\n",
        "\n",
        "Q2-What is an interpreter in Python ?\n",
        "\n",
        "A-An interpreter in Python is a program that directly executes Python code.\n",
        "\n",
        "Q3-What are pre-defined keywords in Python?\n",
        "\n",
        "A-Pre-defined keywords in Python are reserved words that have special meanings and functionalities within the language. These words are an integral part of Python's syntax and structure, and they cannot be used as identifiers (such as variable names, function names, or class names) by programmers. Attempting to use a keyword as an identifier will result in a syntax error.\n",
        "\n",
        "Q4-Can keywords be used as variable names?\n",
        "\n",
        "A-No, keywords cannot be used as variable names.Keywords are reserved words in a programming language that have predefined meanings and are used to define the language's syntax and structure.\n",
        "\n",
        "Q5-What is mutability in Python ?\n",
        "\n",
        "A-Mutability in Python refers to whether an object's state or content can be changed after it is created.\n",
        "\n",
        "Q6-Why are lists mutable, but tuples are immutable?\n",
        "\n",
        "A-Tuples and lists are the same in every way except two: tuples use parentheses instead of square brackets, and the items in tuples cannot be modified (but the items in lists can be modified). We often call lists mutable (meaning they can be changed) and tuples immutable (meaning they cannot be changed).\n",
        "\n",
        "Q7-What is the difference between “==” and “is” operators in Python ?\n",
        "\n",
        "A-In Python, == and is are both comparison operators, but they serve different purposes:\n",
        "== (Equality Operator): This operator compares the values of two objects. It checks if the content or the data represented by the objects are the same. When you use ==, Python essentially asks, \"Do these two objects hold the same value?\"\n",
        "\n",
        "is (Identity Operator): This operator compares the identity of two objects. It checks if two variables refer to the exact same object in memory. When you use is, Python asks, \"Are these two variables pointing to the very same memory location?\"\n",
        "\n",
        "Q8-What are logical operators in Python ?\n",
        "\n",
        "A-Logical operators in Python are used to combine conditional statements and evaluate expressions based on Boolean logic. They return either True or False and are fundamental for controlling the flow of a program through decision-making.\n",
        "\n",
        "Q9-What is type casting in Python ?\n",
        "\n",
        "A-Type casting in Python, also known as type conversion, is the process of converting a value from one data type to another. This is a fundamental concept in programming, as it allows for flexibility in data manipulation and ensures compatibility when performing operations that require specific data types.\n",
        "\n",
        "There are two main types of type conversion in Python:\n",
        "Implicit Type Conversion (Coercion):\n",
        "This occurs automatically without any user intervention. Python's interpreter handles this when performing operations between different data types where a sensible conversion can be made without loss of data. For instance, when an integer is added to a float, the integer is implicitly converted to a float before the addition takes place, resulting in a float.\n",
        "Explicit Type Conversion (Type Casting):\n",
        "This requires the programmer to explicitly convert the data type using built-in functions. This is necessary when automatic conversion is not possible or could lead to unintended results, or when a specific data type is required for a particular operation. Common functions used for explicit type casting include:\n",
        "int(): Converts to an integer.\n",
        "float(): Converts to a floating-point number.\n",
        "str(): Converts to a string.\n",
        "bool(): Converts to a boolean value.\n",
        "\n",
        "Q10-What is the difference between implicit and explicit type casting ?\n",
        "\n",
        "A-Implicit and explicit type casting (also known as type conversion) are two ways to convert a value from one data type to another in programming. Implicit type casting, or widening conversion, is done automatically by the compiler when it's safe and doesn't cause data loss. Explicit type casting, or narrowing conversion, is performed by the programmer using a cast operator (like (int)) to force a conversion, even if data loss might occur.\n",
        "\n",
        "Q11-What is the purpose of conditional statements in Python ?\n",
        "\n",
        "A-The purpose of conditional statements in Python is to control the flow of execution in a program based on specific conditions. They enable decision-making within the code, allowing different blocks of statements to be executed or skipped depending on whether a given condition evaluates to True or False.\n",
        "\n",
        "Decision Making:\n",
        "They allow programs to make choices and respond dynamically to varying inputs or circumstances. For example, an if statement can check if a user is old enough to access certain content and display a message accordingly.\n",
        "Controlling Program Flow:\n",
        "Conditional statements determine which parts of the code are executed and in what order, creating different execution paths based on conditions. This is crucial for building programs that can adapt to different scenarios.\n",
        "Handling Different Scenarios:\n",
        "They allow programs to handle various situations and edge cases gracefully. For instance, an if-elif-else structure can process different types of user input or react to different sensor readings in an environmental monitoring system.\n",
        "Implementing Logic:\n",
        "Conditional statements are fundamental for implementing complex logical structures within a program, enabling the creation of intelligent and responsive applications.\n",
        "Error Handling and Validation:\n",
        "They can be used to validate inputs, check for potential errors, and take appropriate actions, such as displaying error messages or preventing invalid operations.\n",
        "\n",
        "Q12- How does the elif statement work ?\n",
        "\n",
        "A-The elif statement, a contraction of \"else if,\" functions within conditional logic to evaluate multiple conditions sequentially after an initial if statement has been found to be false.\n",
        "\n",
        "Q13-What is the difference between for and while loops?\n",
        "\n",
        "A-The primary difference between for and while loops lies in how they handle the iteration process. For loops are typically used when the number of iterations is known beforehand, while while loops are more suitable when the number of iterations is not known in advance and depends on a condition.\n",
        "\n",
        "Q14-Describe a scenario where a while loop is more suitable than a for loop?\n",
        "\n",
        "A-Consider a program that requires the user to enter a valid phone number. The program needs to repeatedly prompt the user for input until a phone number in the correct format is provided. The exact number of attempts the user might take is not known beforehand."
      ],
      "metadata": {
        "id": "1fJwOPoxzwhX"
      }
    },
    {
      "cell_type": "code",
      "source": [
        "#Practical questions"
      ],
      "metadata": {
        "id": "j2JJmkvaHSCq"
      },
      "execution_count": 1,
      "outputs": []
    },
    {
      "cell_type": "code",
      "source": [
        "#q1-Write a Python program to print \"Hello, World!\""
      ],
      "metadata": {
        "id": "RqDvGmGjHhGP"
      },
      "execution_count": 2,
      "outputs": []
    },
    {
      "cell_type": "code",
      "source": [
        "x='Hello, World!'\n",
        "print(x)"
      ],
      "metadata": {
        "colab": {
          "base_uri": "https://localhost:8080/"
        },
        "id": "pdoRkR6qHrlJ",
        "outputId": "65d35a22-38d9-4842-fbbc-52f1c3da07b5"
      },
      "execution_count": 3,
      "outputs": [
        {
          "output_type": "stream",
          "name": "stdout",
          "text": [
            "Hello, World!\n"
          ]
        }
      ]
    },
    {
      "cell_type": "code",
      "source": [
        "#q2 Write a Python program that displays your name and age"
      ],
      "metadata": {
        "id": "hiEOEeyeH1wE"
      },
      "execution_count": 4,
      "outputs": []
    },
    {
      "cell_type": "code",
      "source": [
        "x={'Name':'Ekta','Age':32}\n",
        "print(x)"
      ],
      "metadata": {
        "colab": {
          "base_uri": "https://localhost:8080/"
        },
        "id": "085HU4i0H6O-",
        "outputId": "930a5f34-9c74-4e98-ee65-a9ef777864c1"
      },
      "execution_count": 5,
      "outputs": [
        {
          "output_type": "stream",
          "name": "stdout",
          "text": [
            "{'Name': 'Ekta', 'Age': 32}\n"
          ]
        }
      ]
    },
    {
      "cell_type": "code",
      "source": [
        "#q3 Write code to print all the pre-defined keywords in Python using the keyword library?"
      ],
      "metadata": {
        "id": "vl9zHGonIHLF"
      },
      "execution_count": 6,
      "outputs": []
    },
    {
      "cell_type": "code",
      "source": [
        "import keyword"
      ],
      "metadata": {
        "id": "uftexJQIIMgN"
      },
      "execution_count": 12,
      "outputs": []
    },
    {
      "cell_type": "code",
      "source": [
        "print(keyword.kwlist)"
      ],
      "metadata": {
        "colab": {
          "base_uri": "https://localhost:8080/"
        },
        "id": "ZiSfCNxlJe9T",
        "outputId": "c2730026-ffc4-4267-8071-03ab0247b4e4"
      },
      "execution_count": 13,
      "outputs": [
        {
          "output_type": "stream",
          "name": "stdout",
          "text": [
            "['False', 'None', 'True', 'and', 'as', 'assert', 'async', 'await', 'break', 'class', 'continue', 'def', 'del', 'elif', 'else', 'except', 'finally', 'for', 'from', 'global', 'if', 'import', 'in', 'is', 'lambda', 'nonlocal', 'not', 'or', 'pass', 'raise', 'return', 'try', 'while', 'with', 'yield']\n"
          ]
        }
      ]
    },
    {
      "cell_type": "code",
      "source": [
        "#q4 Write a program that checks if a given word is a Python keyword?"
      ],
      "metadata": {
        "id": "Wcw2NcmqJjZk"
      },
      "execution_count": 14,
      "outputs": []
    },
    {
      "cell_type": "code",
      "source": [
        "word_to_check=input('Enter the word to check: ')\n",
        "if keyword.iskeyword(word_to_check):\n",
        "    print(f\"'{word_to_check}' is a Python keyword.\")\n",
        "else:\n",
        "    print(f\"'{word_to_check}' is not a Python keyword.\")\n"
      ],
      "metadata": {
        "colab": {
          "base_uri": "https://localhost:8080/"
        },
        "id": "MMMt-zelJsUG",
        "outputId": "e4725bcf-5432-4db4-b1cc-e6060ad226ed"
      },
      "execution_count": 15,
      "outputs": [
        {
          "output_type": "stream",
          "name": "stdout",
          "text": [
            "Enter the word to check: elif\n",
            "'elif' is a Python keyword.\n"
          ]
        }
      ]
    },
    {
      "cell_type": "code",
      "source": [
        "#q5  Create a list and tuple in Python, and demonstrate how attempting to change an element works differently for each."
      ],
      "metadata": {
        "id": "SgiGqy2uKVfl"
      },
      "execution_count": null,
      "outputs": []
    },
    {
      "cell_type": "code",
      "source": [
        "l=[1,2,3,4,5]\n",
        "t=(1,2,3,4,5)\n",
        "l.append(6)"
      ],
      "metadata": {
        "id": "SLFXUaCQJZWN"
      },
      "execution_count": 16,
      "outputs": []
    },
    {
      "cell_type": "code",
      "source": [
        "l"
      ],
      "metadata": {
        "colab": {
          "base_uri": "https://localhost:8080/"
        },
        "id": "NwfIreyWLEuC",
        "outputId": "31321a2d-12b4-4ee7-ba5f-980b07b219eb"
      },
      "execution_count": 17,
      "outputs": [
        {
          "output_type": "execute_result",
          "data": {
            "text/plain": [
              "[1, 2, 3, 4, 5, 6]"
            ]
          },
          "metadata": {},
          "execution_count": 17
        }
      ]
    },
    {
      "cell_type": "code",
      "source": [
        "t.append(6) # tuples are immutable so no changes can be made"
      ],
      "metadata": {
        "colab": {
          "base_uri": "https://localhost:8080/",
          "height": 141
        },
        "id": "yHorP3-aLFu4",
        "outputId": "94bc30b1-4b79-4ba3-8760-1def5c8de68d"
      },
      "execution_count": 18,
      "outputs": [
        {
          "output_type": "error",
          "ename": "AttributeError",
          "evalue": "'tuple' object has no attribute 'append'",
          "traceback": [
            "\u001b[0;31m---------------------------------------------------------------------------\u001b[0m",
            "\u001b[0;31mAttributeError\u001b[0m                            Traceback (most recent call last)",
            "\u001b[0;32m/tmp/ipython-input-3848969903.py\u001b[0m in \u001b[0;36m<cell line: 0>\u001b[0;34m()\u001b[0m\n\u001b[0;32m----> 1\u001b[0;31m \u001b[0mt\u001b[0m\u001b[0;34m.\u001b[0m\u001b[0mappend\u001b[0m\u001b[0;34m(\u001b[0m\u001b[0;36m6\u001b[0m\u001b[0;34m)\u001b[0m\u001b[0;34m\u001b[0m\u001b[0;34m\u001b[0m\u001b[0m\n\u001b[0m",
            "\u001b[0;31mAttributeError\u001b[0m: 'tuple' object has no attribute 'append'"
          ]
        }
      ]
    },
    {
      "cell_type": "code",
      "source": [
        "l[1]=10"
      ],
      "metadata": {
        "id": "rHQ4ph99LLU4"
      },
      "execution_count": 20,
      "outputs": []
    },
    {
      "cell_type": "code",
      "source": [
        "l"
      ],
      "metadata": {
        "colab": {
          "base_uri": "https://localhost:8080/"
        },
        "id": "ZZKvB4cDLsqK",
        "outputId": "0ee55a73-ce66-470d-e4a3-b43fea50c027"
      },
      "execution_count": 21,
      "outputs": [
        {
          "output_type": "execute_result",
          "data": {
            "text/plain": [
              "[1, 10, 3, 4, 5, 6]"
            ]
          },
          "metadata": {},
          "execution_count": 21
        }
      ]
    },
    {
      "cell_type": "code",
      "source": [
        "#q6  Write a function to demonstrate the behavior of mutable and immutable arguments?"
      ],
      "metadata": {
        "id": "hZxrdEbYLtuD"
      },
      "execution_count": 22,
      "outputs": []
    },
    {
      "cell_type": "code",
      "source": [
        "l=[1,2,3,4,5,6]\n",
        "l.remove(2)"
      ],
      "metadata": {
        "id": "Bzt_tx1wL9Ej"
      },
      "execution_count": 23,
      "outputs": []
    },
    {
      "cell_type": "code",
      "source": [
        "l"
      ],
      "metadata": {
        "colab": {
          "base_uri": "https://localhost:8080/"
        },
        "id": "alS_THarMEgh",
        "outputId": "464b9b09-cb5b-4712-be37-2070b53b9cb5"
      },
      "execution_count": 24,
      "outputs": [
        {
          "output_type": "execute_result",
          "data": {
            "text/plain": [
              "[1, 3, 4, 5, 6]"
            ]
          },
          "metadata": {},
          "execution_count": 24
        }
      ]
    },
    {
      "cell_type": "code",
      "source": [
        "t=(1,2,3,4,5,6)\n",
        "t.remove(2)"
      ],
      "metadata": {
        "colab": {
          "base_uri": "https://localhost:8080/",
          "height": 158
        },
        "id": "DjTAiBGZMGAl",
        "outputId": "f9f4bcaa-6324-4ffd-8ec4-5f18595180fd"
      },
      "execution_count": 25,
      "outputs": [
        {
          "output_type": "error",
          "ename": "AttributeError",
          "evalue": "'tuple' object has no attribute 'remove'",
          "traceback": [
            "\u001b[0;31m---------------------------------------------------------------------------\u001b[0m",
            "\u001b[0;31mAttributeError\u001b[0m                            Traceback (most recent call last)",
            "\u001b[0;32m/tmp/ipython-input-3579138881.py\u001b[0m in \u001b[0;36m<cell line: 0>\u001b[0;34m()\u001b[0m\n\u001b[1;32m      1\u001b[0m \u001b[0mt\u001b[0m\u001b[0;34m=\u001b[0m\u001b[0;34m(\u001b[0m\u001b[0;36m1\u001b[0m\u001b[0;34m,\u001b[0m\u001b[0;36m2\u001b[0m\u001b[0;34m,\u001b[0m\u001b[0;36m3\u001b[0m\u001b[0;34m,\u001b[0m\u001b[0;36m4\u001b[0m\u001b[0;34m,\u001b[0m\u001b[0;36m5\u001b[0m\u001b[0;34m,\u001b[0m\u001b[0;36m6\u001b[0m\u001b[0;34m)\u001b[0m\u001b[0;34m\u001b[0m\u001b[0;34m\u001b[0m\u001b[0m\n\u001b[0;32m----> 2\u001b[0;31m \u001b[0mt\u001b[0m\u001b[0;34m.\u001b[0m\u001b[0mremove\u001b[0m\u001b[0;34m(\u001b[0m\u001b[0;36m2\u001b[0m\u001b[0;34m)\u001b[0m\u001b[0;34m\u001b[0m\u001b[0;34m\u001b[0m\u001b[0m\n\u001b[0m",
            "\u001b[0;31mAttributeError\u001b[0m: 'tuple' object has no attribute 'remove'"
          ]
        }
      ]
    },
    {
      "cell_type": "code",
      "source": [
        "#q7 Write a program that performs basic arithmetic operations on two user-input numbers?"
      ],
      "metadata": {
        "id": "z5uAsHg6MLSr"
      },
      "execution_count": 26,
      "outputs": []
    },
    {
      "cell_type": "code",
      "source": [
        "num1=float(input('Enter the first number: '))\n",
        "num2=float(input('Enter the second number: '))\n",
        "sum=num1+num2\n",
        "diff=num1-num2\n",
        "product=num1*num2\n",
        "quotient=num1/num2\n",
        "print(f'The sum of {num1} and {num2} is {sum}')\n",
        "print(f'The difference between {num1} and {num2} is {diff}')\n",
        "print(f'The product of {num1} and {num2} is {product}')\n",
        "print(f'The quotient of {num1} and {num2} is {quotient}')"
      ],
      "metadata": {
        "colab": {
          "base_uri": "https://localhost:8080/"
        },
        "id": "MneFCG0RMQsO",
        "outputId": "afea20d7-cac5-4e72-c86f-5b62f32c1e79"
      },
      "execution_count": 27,
      "outputs": [
        {
          "output_type": "stream",
          "name": "stdout",
          "text": [
            "Enter the first number: 10\n",
            "Enter the second number: 2\n",
            "The sum of 10.0 and 2.0 is 12.0\n",
            "The difference between 10.0 and 2.0 is 8.0\n",
            "The product of 10.0 and 2.0 is 20.0\n",
            "The quotient of 10.0 and 2.0 is 5.0\n"
          ]
        }
      ]
    },
    {
      "cell_type": "code",
      "source": [
        "#q8  Write a program to demonstrate the use of logical operators"
      ],
      "metadata": {
        "id": "7_qAIQddPmuz"
      },
      "execution_count": null,
      "outputs": []
    },
    {
      "cell_type": "code",
      "source": [
        "x=10\n",
        "y=5\n",
        "if x>0 and y>0:\n",
        "    print('Both x and y are positive')\n",
        "if x>0 or y>0:\n",
        "    print('At least one of x or y is positive')\n",
        "if not x>0:\n",
        "    print('x is not positive')"
      ],
      "metadata": {
        "colab": {
          "base_uri": "https://localhost:8080/"
        },
        "id": "fhDH_KxyQW0t",
        "outputId": "8fb6ba8f-751e-491c-a2e1-576f2c034ea7"
      },
      "execution_count": 31,
      "outputs": [
        {
          "output_type": "stream",
          "name": "stdout",
          "text": [
            "Both x and y are positive\n",
            "At least one of x or y is positive\n"
          ]
        }
      ]
    },
    {
      "cell_type": "code",
      "source": [
        "#q9 Write a Python program to convert user input from string to integer, float, and boolean types."
      ],
      "metadata": {
        "id": "jbJl5OtbRDqC"
      },
      "execution_count": null,
      "outputs": []
    },
    {
      "cell_type": "code",
      "source": [
        "x=int(input('Enter the number: '))\n"
      ],
      "metadata": {
        "colab": {
          "base_uri": "https://localhost:8080/"
        },
        "id": "t9gHIOGgP-nd",
        "outputId": "12f5a9b9-0a5f-4fe6-f042-85781ba79772"
      },
      "execution_count": 33,
      "outputs": [
        {
          "name": "stdout",
          "output_type": "stream",
          "text": [
            "Enter the number: 5\n"
          ]
        }
      ]
    },
    {
      "cell_type": "code",
      "source": [
        "type(x)"
      ],
      "metadata": {
        "colab": {
          "base_uri": "https://localhost:8080/"
        },
        "id": "f836Y1yCRqZ7",
        "outputId": "43e32641-5c5a-41d2-ceb3-7cbd38c5bccb"
      },
      "execution_count": 34,
      "outputs": [
        {
          "output_type": "execute_result",
          "data": {
            "text/plain": [
              "int"
            ]
          },
          "metadata": {},
          "execution_count": 34
        }
      ]
    },
    {
      "cell_type": "code",
      "source": [
        "x=float(input('Enter the number: '))\n",
        "x=bool(input('Enter the number: '))"
      ],
      "metadata": {
        "colab": {
          "base_uri": "https://localhost:8080/"
        },
        "id": "WKunwlr-R3s_",
        "outputId": "0ff94148-706a-41a2-f404-22d9b21bd13d"
      },
      "execution_count": 38,
      "outputs": [
        {
          "name": "stdout",
          "output_type": "stream",
          "text": [
            "Enter the number: 5\n",
            "Enter the number: 4\n"
          ]
        }
      ]
    },
    {
      "cell_type": "code",
      "source": [
        "#q10- Write code to demonstrate type casting with list elements"
      ],
      "metadata": {
        "id": "YlnHmqadSBxH"
      },
      "execution_count": null,
      "outputs": []
    },
    {
      "cell_type": "code",
      "source": [
        "x=[1,2,3,4,5]\n",
        "tuple(x)"
      ],
      "metadata": {
        "colab": {
          "base_uri": "https://localhost:8080/"
        },
        "id": "C-HeFyzkRzea",
        "outputId": "2094c58e-7639-45c0-b6ae-92c4575e64ba"
      },
      "execution_count": 39,
      "outputs": [
        {
          "output_type": "execute_result",
          "data": {
            "text/plain": [
              "(1, 2, 3, 4, 5)"
            ]
          },
          "metadata": {},
          "execution_count": 39
        }
      ]
    },
    {
      "cell_type": "code",
      "source": [
        "#q11- . Write a program that checks if a number is positive, negative, or zero."
      ],
      "metadata": {
        "id": "VuX2K_rNSVoO"
      },
      "execution_count": null,
      "outputs": []
    },
    {
      "cell_type": "code",
      "source": [
        "x=10\n",
        "if x>0:\n",
        "  print('the number is positive')\n",
        "  if x<0:\n",
        "    print('the number is negative')\n",
        "  if x==0:\n",
        "    print('the number is zero')"
      ],
      "metadata": {
        "colab": {
          "base_uri": "https://localhost:8080/"
        },
        "id": "C3cTpTbSRmV2",
        "outputId": "258d78c5-155a-4037-8107-cb7355b4a664"
      },
      "execution_count": 46,
      "outputs": [
        {
          "output_type": "stream",
          "name": "stdout",
          "text": [
            "the number is positive\n"
          ]
        }
      ]
    },
    {
      "cell_type": "code",
      "source": [
        "#q12 Write a for loop to print numbers from 1 to 10"
      ],
      "metadata": {
        "id": "2raUbO_jTPZP"
      },
      "execution_count": 47,
      "outputs": []
    },
    {
      "cell_type": "code",
      "source": [
        "x=range(1,11)\n",
        "for i in x:\n",
        "  print(i)"
      ],
      "metadata": {
        "colab": {
          "base_uri": "https://localhost:8080/"
        },
        "id": "zNwdtV07TWzB",
        "outputId": "49c8d5a6-3445-4cc9-f582-432d31cc048b"
      },
      "execution_count": 48,
      "outputs": [
        {
          "output_type": "stream",
          "name": "stdout",
          "text": [
            "1\n",
            "2\n",
            "3\n",
            "4\n",
            "5\n",
            "6\n",
            "7\n",
            "8\n",
            "9\n",
            "10\n"
          ]
        }
      ]
    },
    {
      "cell_type": "code",
      "source": [
        "#q13 Write a Python program to find the sum of all even numbers between 1 and 50"
      ],
      "metadata": {
        "id": "WeD7Yy0zTaWQ"
      },
      "execution_count": null,
      "outputs": []
    },
    {
      "cell_type": "code",
      "source": [
        "x=range(1,51)\n",
        "sum=0\n",
        "for i in x:\n",
        "  if i%2==0:\n",
        "    sum=sum+i\n",
        "print(sum)"
      ],
      "metadata": {
        "colab": {
          "base_uri": "https://localhost:8080/"
        },
        "id": "mBZqnU3iTN7s",
        "outputId": "6a6f8889-45ff-40ee-8b58-ed614da32554"
      },
      "execution_count": 49,
      "outputs": [
        {
          "output_type": "stream",
          "name": "stdout",
          "text": [
            "650\n"
          ]
        }
      ]
    },
    {
      "cell_type": "code",
      "source": [
        "#q14  Write a program to reverse a string using a while loop."
      ],
      "metadata": {
        "id": "DeknJH9WU-aV"
      },
      "execution_count": 55,
      "outputs": []
    },
    {
      "cell_type": "code",
      "source": [
        "x='pwskills'\n"
      ],
      "metadata": {
        "id": "mIMcJtC0VMt7"
      },
      "execution_count": null,
      "outputs": []
    },
    {
      "cell_type": "code",
      "source": [
        "#q15 Write a Python program to calculate the factorial of a number provided by the user using a while loop."
      ],
      "metadata": {
        "id": "GGFM3rQ0U5Kx"
      },
      "execution_count": 56,
      "outputs": []
    },
    {
      "cell_type": "code",
      "source": [
        "x=int(input('Enter the number: '))\n",
        "fact=1\n",
        "while x>0:\n",
        "  fact=fact*x\n",
        "  x=x-1\n",
        "print(fact)"
      ],
      "metadata": {
        "colab": {
          "base_uri": "https://localhost:8080/"
        },
        "id": "4MaVvajZYG0S",
        "outputId": "be13e05a-d17f-4af4-861b-f024460e1267"
      },
      "execution_count": 57,
      "outputs": [
        {
          "output_type": "stream",
          "name": "stdout",
          "text": [
            "Enter the number: 5\n",
            "120\n"
          ]
        }
      ]
    },
    {
      "cell_type": "code",
      "source": [],
      "metadata": {
        "id": "b9rTW8pQZRHz"
      },
      "execution_count": null,
      "outputs": []
    },
    {
      "cell_type": "code",
      "source": [],
      "metadata": {
        "id": "uDziUZC6ZDBT"
      },
      "execution_count": null,
      "outputs": []
    },
    {
      "cell_type": "code",
      "source": [],
      "metadata": {
        "id": "DoW0UprDU0Ue"
      },
      "execution_count": null,
      "outputs": []
    },
    {
      "cell_type": "code",
      "source": [],
      "metadata": {
        "id": "9ziu2yr6UxqG"
      },
      "execution_count": null,
      "outputs": []
    },
    {
      "cell_type": "code",
      "source": [],
      "metadata": {
        "id": "_4JNqGWuUv-u"
      },
      "execution_count": null,
      "outputs": []
    },
    {
      "cell_type": "code",
      "source": [],
      "metadata": {
        "id": "4NsumTfuTJ9G"
      },
      "execution_count": null,
      "outputs": []
    },
    {
      "cell_type": "code",
      "source": [],
      "metadata": {
        "id": "apdoPT3dTF-x"
      },
      "execution_count": null,
      "outputs": []
    },
    {
      "cell_type": "code",
      "source": [],
      "metadata": {
        "id": "5GZ-osALS8UN"
      },
      "execution_count": null,
      "outputs": []
    },
    {
      "cell_type": "code",
      "source": [],
      "metadata": {
        "id": "QacvjmsUS2Fq"
      },
      "execution_count": null,
      "outputs": []
    },
    {
      "cell_type": "code",
      "source": [],
      "metadata": {
        "id": "MhuhcSGXSxEI"
      },
      "execution_count": null,
      "outputs": []
    },
    {
      "cell_type": "code",
      "source": [],
      "metadata": {
        "id": "bs5zRAlIRoHw"
      },
      "execution_count": null,
      "outputs": []
    },
    {
      "cell_type": "code",
      "source": [],
      "metadata": {
        "id": "FiSWOYbPI-TC"
      },
      "execution_count": null,
      "outputs": []
    },
    {
      "cell_type": "code",
      "source": [],
      "metadata": {
        "id": "J40MgitoI5-3"
      },
      "execution_count": null,
      "outputs": []
    },
    {
      "cell_type": "code",
      "source": [],
      "metadata": {
        "id": "-mZ4W__XIkMW"
      },
      "execution_count": null,
      "outputs": []
    }
  ]
}